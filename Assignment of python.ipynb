{
 "cells": [
  {
   "cell_type": "markdown",
   "metadata": {},
   "source": [
    "# CHAPTER-1 "
   ]
  },
  {
   "cell_type": "markdown",
   "metadata": {},
   "source": [
    "## Explain three types of errors in program."
   ]
  },
  {
   "cell_type": "markdown",
   "metadata": {},
   "source": [
    "Here are the three main classes of computer coding errors you’re likely to run into:\n",
    "\n",
    "1. Logical Errors : \n",
    "We will divide our errors into three classes: logical, syntax, and semantic. But be aware that these same classes can be either static (compile-time) or dynamic (run-time) in nature.\n",
    "\n",
    "Logical errors are the hardest of all error types to detect. They do not cause the program to crash or simply not work at all, they cause it to “misbehave” in some way, rendering wrong output of some kind. One example of a logic error is null reference. Null reference errors are responsible for a huge chunk of application bugs, and they are usually very simple mistakes involving missing or wrong “computer logic.” It may be a property/field is null, a condition has prevented an object from being created, or a local variable field is declared but not initialized.\n",
    "\n",
    "Logical errors “make sense” as to the computer language itself, but they simply don’t fit into the program correctly.\n",
    "\n",
    "2. Syntax Errors : \n",
    "Syntax errors in computer programming differ from logical errors in that they don’t follow a correct sequence in the computer language.\n",
    "\n",
    "With compiled languages, you will run into any syntax errors at compile time, and they will have to be corrected before the program can run. For interpreted languages, a syntax error would pop up during run time, and your error message might not even specify it’s a syntax problem. However, in both cases, the compiler/interpreter will give you the location of the syntax error, which makes it rather easy to find/fix.\n",
    "\n",
    "In general, syntax errors are smaller, even single-digit, errors; while logic errors can involve larger sections of code and the general flow of the code. Some examples of syntax errors would be: missing semicolons at a line’s end and an extra/missing bracket at end of a function.\n",
    "\n",
    "3. Semantic Errors :\n",
    "Semantic errors are improper uses of “program statements.” Though different definitions of semantic error exist, we are saying here that logic errors produce wrong data while semantic errors produce nothing meaningful at all."
   ]
  },
  {
   "cell_type": "markdown",
   "metadata": {},
   "source": [
    "## Python is an open source, cross-platform, objected oriented scripting language (High Level Language), Justify the statement with suitable example."
   ]
  },
  {
   "cell_type": "markdown",
   "metadata": {},
   "source": [
    "Python is an interpreted, object-oriented, high-level programming language that is very popular amongst developers. Python is especially used for Rapid Application Development. Features like easy learning, wide library support, cross-platform, easy deployment make Python the choice for the developers.\n",
    "\n",
    "Python is created as Open Source Project and programming language where all the tools are provided freely without a fee. built-in and 3rd party libraries of the Python are provided as free too.\n",
    "\n",
    "Python is a cross-platform language where it can be used for different operating systems platforms and architectures. Currently, Python supports Windows, Linux, Ubuntu, Mint, Debian, Kali, Fedora, CentOS, Red Hat, BSD, MacOS, Raspberry Pi, etc. with X86, x8_64, and ARM CPU architectures.\n",
    "\n",
    "In software engineering world, Python is understood as a high-level, interpreted general-purpose language. This means it is not your straight compiled language (like Java or C) but an interpreted dynamic language that has to be run in the given system using another program instead of its local processor."
   ]
  },
  {
   "cell_type": "markdown",
   "metadata": {},
   "source": [
    "## Write short notes on following "
   ]
  },
  {
   "cell_type": "markdown",
   "metadata": {},
   "source": [
    "### 1) Object oriented prograamming language"
   ]
  },
  {
   "cell_type": "markdown",
   "metadata": {},
   "source": [
    "Object Oriented programming (OOP) is a programming paradigm that relies on the concept of classes and objects. It is used to structure a software program into simple, reusable pieces of code blueprints (usually called classes), which are used to create individual instances of objects. There are many object-oriented programming languages including JavaScript, C++, Java, and Python.\n",
    "\n",
    "A class is an abstract blueprint used to create more specific, concrete objects. Classes often represent broad categories, like Car or Dog that share attributes. These classes define what attributes an instance of this type will have, like color, but not the value of those attributes for a specific object.\n",
    "\n",
    "Classes can also contain functions, called methods available only to objects of that type. These functions are defined within the class and perform some action helpful to that specific type of object.\n",
    "\n",
    "Classes can also contain functions, called methods available only to objects of that type. These functions are defined within the class and perform some action helpful to that specific type of object.\n",
    "\n",
    "For example, our Car class may have a method repaint that changes the color attribute of our car. This function is only helpful to objects of type Car, so we declare it within the Car class thus making it a method."
   ]
  },
  {
   "cell_type": "markdown",
   "metadata": {},
   "source": [
    "### 2) Complier"
   ]
  },
  {
   "cell_type": "markdown",
   "metadata": {},
   "source": [
    "Compiler is a special program that processes statements written in a particular programming language and turns them into machine language or \"code\" that a computer's processor uses. Typically, a programmer writes language statements in a language such as Pascal or C one line at a time using an editor. The file that is created contains what are called the source statements. The programmer then runs the appropriate language compiler, specifying the name of the file that contains the source statements."
   ]
  },
  {
   "cell_type": "markdown",
   "metadata": {},
   "source": [
    "### 3) Interpreter"
   ]
  },
  {
   "cell_type": "markdown",
   "metadata": {},
   "source": [
    "An interpreter is a computer program that is used to directly execute program instructions written using one of the many high-level programming languages.\n",
    "\n",
    "The interpreter transforms the high-level program into an intermediate language that it then executes, or it could parse the high-level source code and then performs the commands directly, which is done line by line or statement by statement.\n"
   ]
  },
  {
   "cell_type": "markdown",
   "metadata": {},
   "source": [
    "### 4) Literals"
   ]
  },
  {
   "cell_type": "markdown",
   "metadata": {},
   "source": [
    "In computer science, a literal is a notation for representing a fixed value in source code.[1][2] Almost all programming languages have notations for atomic values such as integers, floating-point numbers, and strings, and usually for booleans and characters; some also have notations for elements of enumerated types and compound values such as arrays, records, and objects. An anonymous function is a literal for the function type.\n",
    "\n",
    "In contrast to literals, variables or constants are symbols that can take on one of a class of fixed values, the constant being constrained not to change. Literals are often used to initialize variables, for example, in the following, 1 is an integer literal and the three letter string in \"cat\" is a string literal:\n",
    "\n",
    "int a = 1;\n",
    "\n",
    "string s = \"cat\";\n",
    "\n",
    "In lexical analysis, literals of a given type are generally a token type, with a grammar rule, like \"a string of digits\" for an integer literal. Some literals are specific keywords, like true for the boolean literal \"true\".\n",
    "\n",
    "In some object-oriented languages (like ECMAScript), objects can also be represented by literals. Methods of this object can be specified in the object literal using function literals. The brace notation below, which is also used for array literals, is typical for object literals:\n",
    "\n",
    "{\"cat\", \"dog\"}\n",
    "\n",
    "{name: \"cat\", length: 57}"
   ]
  },
  {
   "cell_type": "markdown",
   "metadata": {},
   "source": [
    "# Chapter- 2"
   ]
  },
  {
   "cell_type": "markdown",
   "metadata": {},
   "source": [
    "### 1. What do you understand by Standard library for python module?"
   ]
  },
  {
   "cell_type": "markdown",
   "metadata": {},
   "source": [
    "The Python Standard Library is a collection of script modules accessible to a python program to simplify the programming prcess and removing the need to rewrite comonly used commands. They can be used by 'calling/ importing' them at the beginning of a script.\n",
    "e.g. time, sys, os etc.\n",
    "\n",
    "Some commonly used modules of Python Standaed liibrary are math, cmath, random, statistics, etc."
   ]
  },
  {
   "cell_type": "markdown",
   "metadata": {},
   "source": [
    "### 2. What is function in python programming and what function can do in python programming?"
   ]
  },
  {
   "cell_type": "markdown",
   "metadata": {},
   "source": [
    "In the context of python programming, a function is a named sequence of statements that performs a desired operation. This operation is specified in a function definition. In Python, the syntax for a function definition is:\n",
    "\n",
    "def NAME( LIST OF PARAMETERS ):\n",
    "\n",
    "    STATEMENTS\n",
    "\n",
    "You can make up any names you want for the functions you create, except that you can’t use a name that is a Python keyword. The list of parameters specifies what information, if any, you have to provide in order to use the new function.\n",
    "\n",
    "There can be any number of statements inside the function, but they have to be indented from the 'def'.\n",
    "\n",
    "There are three types of functions in Python:\n",
    "\n",
    "1. Built-in functions, such as help() to ask for help, min() to get the minimum value, print() to print an object to the terminal,… You can find an overview with more of these functions here.\n",
    "2. User-Defined Functions (UDFs), which are functions that users create to help them out; And\n",
    "3. Anonymous functions, which are also called lambda functions because they are not declared with the standard def keyword."
   ]
  },
  {
   "cell_type": "markdown",
   "metadata": {},
   "source": [
    "### 3. What do you understand by recursive function in python programming? Highlight your answer with python programming using recursive function."
   ]
  },
  {
   "cell_type": "markdown",
   "metadata": {},
   "source": [
    "A function that calls itself is a recursive function. This method is used when a certain problem is defined in terms of itself. Although this involves iteration, using an iterative approach to solve such a problem can be tedious. The recursive approach provides a very concise solution to a seemingly complex problem. It looks glamorous but can be difficult to comprehend!\n",
    "\n",
    "The most popular example of recursion is the calculation of the factorial. Mathematically the factorial is defined as: n! = n * (n-1)!\n",
    "\n",
    "We use the factorial itself to define the factorial. Hence, this is a suitable case to write a recursive function. Let us expand the above definition for the calculation of the factorial value of 5.\n",
    "\n",
    "5! = 5 X 4!\n",
    "     5 X4 X 3!\n",
    "     5 X4 X 3 X 2!\n",
    "     5 X4 X 3 X  2 X 1!\n",
    "     5 X4 X 3 X  2 X 1\n",
    "   = 120\n",
    "   \n"
   ]
  },
  {
   "cell_type": "code",
   "execution_count": 8,
   "metadata": {},
   "outputs": [],
   "source": [
    "### Example: Recursive Function\n",
    "def factorial(n):   \n",
    "\n",
    "    if n == 1:\n",
    "    \n",
    "        print(n)\n",
    "        return 1    \n",
    "    else:\n",
    "        print (n,'*', end=' ')\n",
    "        return n * factorial(n-1)"
   ]
  },
  {
   "cell_type": "code",
   "execution_count": 10,
   "metadata": {},
   "outputs": [
    {
     "name": "stdout",
     "output_type": "stream",
     "text": [
      "5 * 4 * 3 * 2 * 1\n"
     ]
    },
    {
     "data": {
      "text/plain": [
       "120"
      ]
     },
     "execution_count": 10,
     "metadata": {},
     "output_type": "execute_result"
    }
   ],
   "source": [
    "factorial(5)"
   ]
  },
  {
   "cell_type": "markdown",
   "metadata": {},
   "source": [
    "### 4.Write Short notes on following with suitable python programming example:"
   ]
  },
  {
   "cell_type": "markdown",
   "metadata": {},
   "source": [
    "### a)Fruitful and Void Function"
   ]
  },
  {
   "cell_type": "markdown",
   "metadata": {},
   "source": [
    "Some of the functions we are using, such as the math functions, yield results; for lack of a better name, I call them fruitful functions. Other functions, like print_twice, perform an action but don't return a value. They are called void functions.\n",
    "\n",
    "When you call a fruitful function, you almost always want to do something with the result; for example, you might assign it to a variable or use it as part of an expression:\n",
    "\n"
   ]
  },
  {
   "cell_type": "code",
   "execution_count": 5,
   "metadata": {},
   "outputs": [],
   "source": [
    "import math\n",
    "radians = 50\n",
    "x = math.cos(radians)\n",
    "\n",
    "golden = (math.sqrt(5) + 1) / 2\n",
    "\n",
    "### Void function without return statement\n",
    "\n",
    "def fun1():\n",
    "\n",
    "    print(\"Python\")"
   ]
  },
  {
   "cell_type": "code",
   "execution_count": 7,
   "metadata": {},
   "outputs": [
    {
     "name": "stdout",
     "output_type": "stream",
     "text": [
      "Python\n"
     ]
    }
   ],
   "source": [
    "fun1()"
   ]
  },
  {
   "cell_type": "markdown",
   "metadata": {},
   "source": [
    "### b. Built in function"
   ]
  },
  {
   "cell_type": "markdown",
   "metadata": {},
   "source": [
    "The Python built-in functions are defined as the functions whose functionality is pre-defined in Python. The python interpreter has several functions that are always present for use. These functions are known as Built-in Functions. There are several built-in functions in Python which are listed below:\n",
    "\n",
    "### Python abs() Function\n",
    "The python abs() function is used to return the absolute value of a number. It takes only one argument, a number whose absolute value is to be returned. The argument can be an integer and floating-point number. If the argument is a complex number, then, abs() returns its magnitude.\n",
    "\n",
    "Example code:  \n",
    "\n",
    "integer = -20  \n",
    "print('Absolute value of -40 is:', abs(integer))  \n",
    "\n",
    "Output: Absolute value of -20 is: 20\n"
   ]
  },
  {
   "cell_type": "markdown",
   "metadata": {},
   "source": [
    "### c. Math Function"
   ]
  },
  {
   "cell_type": "markdown",
   "metadata": {},
   "source": [
    "Some of the most popular mathematical functions are defined in the math module. These include trigonometric functions, representation functions, logarithmic functions, angle conversion functions, etc. In addition, two mathematical constants are also defined in this module.\n",
    "\n",
    "Pi is a well-known mathematical constant, which is defined as the ratio of the circumference to the diameter of a circle and its value is 3.141592653589793."
   ]
  },
  {
   "cell_type": "markdown",
   "metadata": {},
   "source": [
    "### d. Conversion Function"
   ]
  },
  {
   "cell_type": "markdown",
   "metadata": {},
   "source": [
    "Sometimes it is necessary to convert values from one type to another. Python provides a few simple functions that will allow us to do that. The functions int, float and str will (attempt to) convert their arguments into types int, float and str respectively. We call these type conversion functions.\n",
    "\n",
    "The int function can take a floating point number or a string, and turn it into an int. For floating point numbers, it discards the decimal portion of the number - a process we call truncation towards zero on the number line."
   ]
  },
  {
   "cell_type": "markdown",
   "metadata": {},
   "source": [
    "### Chapter 3"
   ]
  },
  {
   "cell_type": "markdown",
   "metadata": {},
   "source": [
    "### What do you understand by control statement and iterations. Describe different forms of control statement and iteration in detail and also express your view on when and how different forms are used with suitable python example."
   ]
  },
  {
   "cell_type": "markdown",
   "metadata": {},
   "source": [
    "In Python, loops statements gives you a way execute the block of code repeatedly. But sometimes, you may want to exit a loop completely or skip specific part of a loop when it meets a specified condition. It can be done using loop control mechanism.\n",
    "In Python, you have loop control statements that can be used to alter or control the flow of loop execution based on specified conditions. In Python we have following loop control statements –\n",
    "\n",
    "1. Break Statement\n",
    "2. Continue Statement\n",
    "3. Pass Statement\n",
    "\n",
    "Repeating identical or similar tasks without making errors is something that computers do well and people do poorly. Repeated execution of a set of statements is called iteration. Because iteration is so common, Python provides several language features to make it easier."
   ]
  },
  {
   "cell_type": "markdown",
   "metadata": {},
   "source": [
    "Python break statement\n",
    "In Python, break statement inside any loop gives you way to break or terminate the execution of loop containing it, and transfers the execution to the next statement following the loop.\n",
    "\n",
    "Python continue statement\n",
    "The continue statement gives you way to skip over the current iteration of any loop. When a continue statement is encountered in the loop, the python interpreter ignores rest of statements in the loop body for current iteration and returns the program execution to the very first statement in th loop body. It does not terminates the loop rather continues with the next iteration.\n",
    "\n",
    "Python pass statement\n",
    "In Python , the pass statement is considered as no operation statement, means it consumes the execution cycle like a valid python statement but nothing happens actually when pass is executed.The pass statement is much like a comment, but the python interpreter executes the pass statements like a valid python statements, while it ignores the comment statement completely. It is generally used to indicate “null” or unimplemented functions and loops body."
   ]
  },
  {
   "cell_type": "markdown",
   "metadata": {},
   "source": [
    "# Chapter 4"
   ]
  },
  {
   "cell_type": "markdown",
   "metadata": {},
   "source": [
    "### What do you understand by Concatenation, comparison, Length of a string, string subscripts, positive and negative indices, 'in' operator, Strings methods in Python programming? WAP to demonstrate their use using python language."
   ]
  },
  {
   "cell_type": "markdown",
   "metadata": {},
   "source": [
    "\n",
    "Python string concatenation is the process of merging two or more strings. The + operator adds a string to another string. % lets you insert a string into another string value. Both operators are used to concatenate strings in Python.\n",
    "\n",
    "Python Comparison Operators\n",
    "If the values of two operands are equal, then the condition becomes true. (a == b) is not true. If values of two operands are not equal, then condition becomes true. ... If values of two operands are not equal, then condition becomes true.\n",
    "\n",
    "To calculate the length of a string in Python, you can use the built-in len() method. It takes a string as a parameter and returns an integer as the length of that string. For example len(“educative”) will return 9 because there are 9 characters in “educative”.\n",
    "\n",
    "We can make two strings one for the normal characters and the other for the subscript/superscript characters. After this, we can use the maketrans() method which returns a mapping that can be used with the translate() method to replace the specified characters. It can be implemented for superscripts as \n",
    "\n",
    "\n",
    "Python arrays & list items can be accessed with positive or negative numbers (also known as index). - For instance our array/list is of size n, then for positive index 0 is the first index, 1 second, last index will be n-1. For negative index, -n is the first index, -(n-1) second, last negative index will be – 1."
   ]
  },
  {
   "cell_type": "code",
   "execution_count": 1,
   "metadata": {},
   "outputs": [
    {
     "name": "stdout",
     "output_type": "stream",
     "text": [
      "ᴳᵉᵉᵏˢᶠᵒʳᴳᵉᵉᵏˢ\n"
     ]
    }
   ],
   "source": [
    "### function to convert to superscript\n",
    "def get_super(x):\n",
    "\n",
    "    normal = \"ABCDEFGHIJKLMNOPQRSTUVWXYZabcdefghijklmnopqrstuvwxyz0123456789+-=()\"\n",
    "    \n",
    "    super_s = \"ᴬᴮᶜᴰᴱᶠᴳᴴᴵᴶᴷᴸᴹᴺᴼᴾQᴿˢᵀᵁⱽᵂˣʸᶻᵃᵇᶜᵈᵉᶠᵍʰᶦʲᵏˡᵐⁿᵒᵖ۹ʳˢᵗᵘᵛʷˣʸᶻ⁰¹²³⁴⁵⁶⁷⁸⁹⁺⁻⁼⁽⁾\"\n",
    "    \n",
    "    res = x.maketrans(''.join(normal), ''.join(super_s))\n",
    "    \n",
    "    return x.translate(res)\n",
    "  \n",
    "### display superscipt\n",
    "print(get_super('GeeksforGeeks'))\n"
   ]
  },
  {
   "cell_type": "code",
   "execution_count": 2,
   "metadata": {},
   "outputs": [
    {
     "name": "stdout",
     "output_type": "stream",
     "text": [
      "H₂SO₄\n"
     ]
    }
   ],
   "source": [
    "# function to convert to subscript\n",
    "def get_sub(x):\n",
    "\tnormal = \"ABCDEFGHIJKLMNOPQRSTUVWXYZabcdefghijklmnopqrstuvwxyz0123456789+-=()\"\n",
    "\tsub_s = \"ₐ₈CDₑբGₕᵢⱼₖₗₘₙₒₚQᵣₛₜᵤᵥwₓᵧZₐ♭꜀ᑯₑբ₉ₕᵢⱼₖₗₘₙₒₚ૧ᵣₛₜᵤᵥwₓᵧ₂₀₁₂₃₄₅₆₇₈₉₊₋₌₍₎\"\n",
    "\tres = x.maketrans(''.join(normal), ''.join(sub_s))\n",
    "\treturn x.translate(res)\n",
    "\n",
    "# display subscript\n",
    "print('H{}SO{}'.format(get_sub('2'),get_sub('4'))) #H₂SO₄\n"
   ]
  },
  {
   "cell_type": "code",
   "execution_count": 11,
   "metadata": {},
   "outputs": [
    {
     "name": "stdout",
     "output_type": "stream",
     "text": [
      "Python is awesome\n"
     ]
    }
   ],
   "source": [
    "#concatenation\n",
    "x = \"Python is \"\n",
    "y = \"awesome\"\n",
    "z =  x + y\n",
    "print(z)"
   ]
  },
  {
   "cell_type": "code",
   "execution_count": 13,
   "metadata": {},
   "outputs": [
    {
     "name": "stdout",
     "output_type": "stream",
     "text": [
      "Hello python\n"
     ]
    }
   ],
   "source": [
    "mystring = \"hello python\"\n",
    "print(mystring.capitalize())"
   ]
  },
  {
   "cell_type": "markdown",
   "metadata": {},
   "source": [
    "# Chapter 5"
   ]
  },
  {
   "cell_type": "markdown",
   "metadata": {},
   "source": [
    "### What Is LIST? Describe the LIST using Python Example."
   ]
  },
  {
   "cell_type": "markdown",
   "metadata": {},
   "source": [
    "A list is a data type that allows you to store various types data in it. List is a compound data type which means you can \n",
    "have different-2 data types under a list, for example we can have integer, float and string items in a same list.\n",
    "In Python programming, a list is created by placing all the items (elements) inside square brackets [], separated by commas.\n",
    "\n",
    "It can have any number of items and they may be of different types (integer, float, string etc.).\n"
   ]
  },
  {
   "cell_type": "code",
   "execution_count": 14,
   "metadata": {},
   "outputs": [],
   "source": [
    "\n",
    "# empty list\n",
    "my_list = []\n",
    "\n",
    "# list of integers\n",
    "my_list = [1, 2, 3]\n",
    "\n",
    "# list with mixed data types\n",
    "my_list = [1, \"Hello\", 3.4]"
   ]
  },
  {
   "cell_type": "code",
   "execution_count": 15,
   "metadata": {},
   "outputs": [
    {
     "name": "stdout",
     "output_type": "stream",
     "text": [
      "p\n",
      "o\n",
      "e\n",
      "a\n",
      "5\n"
     ]
    },
    {
     "ename": "TypeError",
     "evalue": "list indices must be integers or slices, not float",
     "output_type": "error",
     "traceback": [
      "\u001b[1;31m---------------------------------------------------------------------------\u001b[0m",
      "\u001b[1;31mTypeError\u001b[0m                                 Traceback (most recent call last)",
      "\u001b[1;32m<ipython-input-15-a3454131d830>\u001b[0m in \u001b[0;36m<module>\u001b[1;34m\u001b[0m\n\u001b[0;32m     21\u001b[0m \u001b[1;33m\u001b[0m\u001b[0m\n\u001b[0;32m     22\u001b[0m \u001b[1;31m# Error! Only integer can be used for indexing\u001b[0m\u001b[1;33m\u001b[0m\u001b[1;33m\u001b[0m\u001b[1;33m\u001b[0m\u001b[0m\n\u001b[1;32m---> 23\u001b[1;33m \u001b[0mprint\u001b[0m\u001b[1;33m(\u001b[0m\u001b[0mmy_list\u001b[0m\u001b[1;33m[\u001b[0m\u001b[1;36m4.0\u001b[0m\u001b[1;33m]\u001b[0m\u001b[1;33m)\u001b[0m\u001b[1;33m\u001b[0m\u001b[1;33m\u001b[0m\u001b[0m\n\u001b[0m",
      "\u001b[1;31mTypeError\u001b[0m: list indices must be integers or slices, not float"
     ]
    }
   ],
   "source": [
    "# List indexing\n",
    "\n",
    "my_list = ['p', 'r', 'o', 'b', 'e']\n",
    "\n",
    "# Output: p\n",
    "print(my_list[0])\n",
    "\n",
    "# Output: o\n",
    "print(my_list[2])\n",
    "\n",
    "# Output: e\n",
    "print(my_list[4])\n",
    "\n",
    "# Nested List\n",
    "n_list = [\"Happy\", [2, 0, 1, 5]]\n",
    "\n",
    "# Nested indexing\n",
    "print(n_list[0][1])\n",
    "\n",
    "print(n_list[1][3])\n",
    "\n",
    "# Error! Only integer can be used for indexing\n",
    "print(my_list[4.0])"
   ]
  },
  {
   "cell_type": "markdown",
   "metadata": {},
   "source": [
    "### List are Mutable. Justify the statement with suitable python example."
   ]
  },
  {
   "cell_type": "markdown",
   "metadata": {},
   "source": [
    "Lists are mutable: Unlike strings, lists are mutable because you can change the order of items in a list or reassign an item in a list.\n"
   ]
  },
  {
   "cell_type": "code",
   "execution_count": 17,
   "metadata": {},
   "outputs": [
    {
     "data": {
      "text/plain": [
       "['a', 'First', 3, 2.5]"
      ]
     },
     "execution_count": 17,
     "metadata": {},
     "output_type": "execute_result"
    }
   ],
   "source": [
    "grade=['a','First',3,2.5]\n",
    "grade"
   ]
  },
  {
   "cell_type": "code",
   "execution_count": 18,
   "metadata": {},
   "outputs": [
    {
     "data": {
      "text/plain": [
       "['a', 'First', 'Third', 2.5]"
      ]
     },
     "execution_count": 18,
     "metadata": {},
     "output_type": "execute_result"
    }
   ],
   "source": [
    "grade[2]='Third'\n",
    "grade"
   ]
  },
  {
   "cell_type": "code",
   "execution_count": 20,
   "metadata": {},
   "outputs": [
    {
     "data": {
      "text/plain": [
       "True"
      ]
     },
     "execution_count": 20,
     "metadata": {},
     "output_type": "execute_result"
    }
   ],
   "source": [
    "#in operator works with list\n",
    "'First' in grade"
   ]
  },
  {
   "cell_type": "code",
   "execution_count": 23,
   "metadata": {},
   "outputs": [
    {
     "name": "stdout",
     "output_type": "stream",
     "text": [
      "a\n",
      "First\n",
      "Third\n",
      "2.5\n"
     ]
    }
   ],
   "source": [
    "#The list elements can be easily visited by for loop\n",
    "for result in grade:\n",
    "    print(result)"
   ]
  },
  {
   "cell_type": "markdown",
   "metadata": {},
   "source": [
    "### What do you understand by Nested List? Write python example to illustrate Nested list."
   ]
  },
  {
   "cell_type": "markdown",
   "metadata": {},
   "source": [
    "A list can contain any sort object, even another list (sublist), which in turn can contain sublists themselves, and so on. This is known as nested list."
   ]
  },
  {
   "cell_type": "code",
   "execution_count": 25,
   "metadata": {},
   "outputs": [
    {
     "name": "stdout",
     "output_type": "stream",
     "text": [
      "1 2 3 4 5 6 7 8 9 "
     ]
    }
   ],
   "source": [
    "L = [[1, 2, 3],[4, 5, 6],[7, 8, 9]]   \n",
    "for list in L:\n",
    "    for number in list:\n",
    "        print(number, end=' ')\n",
    "# Prints 1 2 3 4 5 6 7 8 9"
   ]
  },
  {
   "cell_type": "markdown",
   "metadata": {},
   "source": [
    "### Compare List and Strings with suitable Python Example."
   ]
  },
  {
   "cell_type": "markdown",
   "metadata": {},
   "source": [
    "Strings and lists share many similarities as we have seen throughout this lesson. However, strings are not interchangeable with lists because of some important differences.\n",
    "\n",
    "Strings can only consist of characters, while lists can contain any data type.\n",
    "\n",
    "Because of the previous difference, we cannot easily make a list into a string, but we can make a string into a list of characters, simply by using the list() function.\n",
    "\n",
    "\n",
    "Furthermore, when we add to a string, we use the + concatenation operator to do so. With a list, we use the .append() method to add elements.\n",
    "\n",
    "Finally, one of the most important differences is mutability. Strings are immutable, meaning that we cannot update them. We could update values in a list however quite easily.\n"
   ]
  },
  {
   "cell_type": "code",
   "execution_count": 33,
   "metadata": {},
   "outputs": [
    {
     "data": {
      "text/plain": [
       "tuple"
      ]
     },
     "execution_count": 33,
     "metadata": {},
     "output_type": "execute_result"
    }
   ],
   "source": [
    "singleton = (2,)\n",
    "type(singleton)\n",
    "#class <'tuple'>\n",
    "not_tuple = (2)\n",
    "type(not_tuple)\n",
    "#class 'int'>\n",
    "empty_tuple = ()\n",
    "type(empty_tuple)\n",
    "#class <'tuple'>"
   ]
  },
  {
   "cell_type": "code",
   "execution_count": 28,
   "metadata": {},
   "outputs": [],
   "source": [
    "# For lists, we can easily update an element\n",
    "name_as_list = [\"J\", \"o\", \"e\"]\n",
    "name_as_list[0] = \"P\"\n",
    "# name_as_list is now [\"P\", \"o\", \"e\"]"
   ]
  },
  {
   "cell_type": "markdown",
   "metadata": {},
   "source": [
    "### List out and Describe List Methods with suitable Python Example"
   ]
  },
  {
   "cell_type": "markdown",
   "metadata": {},
   "source": [
    "append(): Used for appending and adding elements to List.It is used to add elements to the last position of List.\n",
    "Syntax: \n",
    " list.append (element)"
   ]
  },
  {
   "cell_type": "code",
   "execution_count": 35,
   "metadata": {},
   "outputs": [
    {
     "name": "stdout",
     "output_type": "stream",
     "text": [
      "['Mathematics', 'chemistry', 1997, 2000, 20544]\n"
     ]
    }
   ],
   "source": [
    "# Adds List Element as value of List.\n",
    "List = ['Mathematics', 'chemistry', 1997, 2000]\n",
    "List.append(20544)\n",
    "print(List)"
   ]
  },
  {
   "cell_type": "markdown",
   "metadata": {},
   "source": [
    "insert(): Inserts an elements at specified position.\n",
    "Syntax:\n",
    "list.insert(<position, element)\n",
    "Note: Position mentioned should be within the range of List, as in this case between 0 and 4, elsewise would throw IndexError."
   ]
  },
  {
   "cell_type": "code",
   "execution_count": 36,
   "metadata": {},
   "outputs": [
    {
     "name": "stdout",
     "output_type": "stream",
     "text": [
      "['Mathematics', 'chemistry', 10087, 1997, 2000]\n"
     ]
    }
   ],
   "source": [
    "List = ['Mathematics', 'chemistry', 1997, 2000]\n",
    "# Insert at index 2 value 10087\n",
    "List.insert(2,10087)     \n",
    "print(List)  "
   ]
  },
  {
   "cell_type": "markdown",
   "metadata": {},
   "source": [
    "extend(): Adds contents to List2 to the end of List1.\n",
    "Syntax:\n",
    "List1.extend(List2)"
   ]
  },
  {
   "cell_type": "code",
   "execution_count": 37,
   "metadata": {},
   "outputs": [
    {
     "name": "stdout",
     "output_type": "stream",
     "text": [
      "[1, 2, 3, 2, 3, 4, 5]\n",
      "[2, 3, 4, 5, 1, 2, 3, 2, 3, 4, 5]\n"
     ]
    }
   ],
   "source": [
    "List1 = [1, 2, 3]\n",
    "List2 = [2, 3, 4, 5]\n",
    "  \n",
    "# Add List2 to List1\n",
    "List1.extend(List2)        \n",
    "print(List1)\n",
    "  \n",
    "# Add List1 to List2 now\n",
    "List2.extend(List1) \n",
    "print(List2)"
   ]
  },
  {
   "cell_type": "markdown",
   "metadata": {},
   "source": [
    "## Tuple and Set"
   ]
  },
  {
   "cell_type": "markdown",
   "metadata": {},
   "source": [
    "A tuple is a sequence of elements that cannot be modified. It can contain any Python or more values. the items of a tuple are enclosed in parenthesis and separated by commas.\n",
    "\n",
    "Some tuples: myTuple = (1,2,3 ) t2 = ('H', 'e', 'L') t3 = ('College drive', ['A10','B20','C10'], 98008, 'WA', )\n",
    "    \n",
    "Sets are another type of data structure, sets are unordered unique objects enclosed in Curly braces {}. Python set is similar to a dictionary that only has keys and no corresponding values. Sets are very handy to quickly remove duplicates.\n",
    "\n",
    "mySet = {1,2,'h',5,6}"
   ]
  },
  {
   "cell_type": "markdown",
   "metadata": {},
   "source": [
    "## 'in' operator"
   ]
  },
  {
   "cell_type": "markdown",
   "metadata": {},
   "source": [
    "in operator : The 'in' operator is used to check if a value exists in a sequence or not. ... 'not in' operator- Evaluates to true if it does not finds a variable in the specified sequence and false otherwise"
   ]
  },
  {
   "cell_type": "code",
   "execution_count": null,
   "metadata": {},
   "outputs": [],
   "source": []
  }
 ],
 "metadata": {
  "kernelspec": {
   "display_name": "Python 3",
   "language": "python",
   "name": "python3"
  },
  "language_info": {
   "codemirror_mode": {
    "name": "ipython",
    "version": 3
   },
   "file_extension": ".py",
   "mimetype": "text/x-python",
   "name": "python",
   "nbconvert_exporter": "python",
   "pygments_lexer": "ipython3",
   "version": "3.8.5"
  }
 },
 "nbformat": 4,
 "nbformat_minor": 4
}
